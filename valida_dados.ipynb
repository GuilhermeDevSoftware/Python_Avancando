{
 "cells": [
  {
   "cell_type": "code",
   "execution_count": 1,
   "metadata": {},
   "outputs": [],
   "source": [
    "import re"
   ]
  },
  {
   "cell_type": "code",
   "execution_count": 19,
   "metadata": {},
   "outputs": [],
   "source": [
    "def validar_contatos(contatos):\n",
    "    \n",
    "    padrao_nome = r'Nome:\\s*([a-zA-Z]+(?:\\s[a-zA-Z]+)*)'\n",
    "    padrao_email = r'Email:\\s*([a-zA-Z0-9._%+-]+@[a-zA-Z0-9.-]+\\.[[a-zA-Z]{2,})' \n",
    "    padrao_telefone = r'Telefone:\\s*(\\(\\d{2}\\)\\s\\d{5}-\\d{4}|\\d{5}-\\d{4})'\n",
    "\n",
    "    for contato in contatos:\n",
    "        nome_encontrado = re.search(padrao_nome, contato)\n",
    "        email_econtrado = re.search(padrao_email, contato)\n",
    "        telefone_encontrado = re.search(padrao_telefone, contato)\n",
    "\n",
    "        if nome_encontrado and email_econtrado and telefone_encontrado:\n",
    "            nome = nome_encontrado.group(1)\n",
    "            email = email_econtrado.group(1)\n",
    "            telefone = telefone_encontrado.group(1)\n",
    "            print(f\"Contato encontrado: Nome: {nome}, Email :{email}, Telefone: {telefone}\")\n",
    "        else:\n",
    "            print(f\"--Contato invalido: {contato}\")    \n"
   ]
  },
  {
   "cell_type": "code",
   "execution_count": 31,
   "metadata": {},
   "outputs": [],
   "source": [
    "lista_contatos = [\n",
    "    \"Nome: Jose Heitor, Email: jose@email.com, Telefone: (01) 99416-2310\",\n",
    "    \"Nome: Douglas Michael, Email: douglas@example.com, Telefone: (01) 95649-4456\",\n",
    "    \"Nome: Noely Silva, Email: noely@procura.com, Telefone: (01) 99216-9876\",\n",
    "    \"Nome: Raphael Turttle, Email: noely@procura, Telefone:  99216-9876\",\n",
    "    \"Nome: Silvana Souza, Email: silvana@email.com, Telefone: (01) 9456-7895\",\n",
    "    \"Nome: Arthur Smith, Email: arthur@email.com, Telefone: (01) 99121-3546\",             \n",
    "    ]"
   ]
  },
  {
   "cell_type": "code",
   "execution_count": 32,
   "metadata": {},
   "outputs": [
    {
     "name": "stdout",
     "output_type": "stream",
     "text": [
      "Contato encontrado: Nome: Jose Heitor, Email :jose@email.com, Telefone: (01) 99416-2310\n",
      "Contato encontrado: Nome: Douglas Michael, Email :douglas@example.com, Telefone: (01) 95649-4456\n",
      "Contato encontrado: Nome: Noely Silva, Email :noely@procura.com, Telefone: (01) 99216-9876\n",
      "--Contato invalido: Nome: Raphael Turttle, Email: noely@procura, Telefone:  99216-9876\n",
      "--Contato invalido: Nome: Silvana Souza, Email: silvana@email.com, Telefone: (01) 9456-7895\n",
      "Contato encontrado: Nome: Arthur Smith, Email :arthur@email.com, Telefone: (01) 99121-3546\n"
     ]
    }
   ],
   "source": [
    "validar_contatos(lista_contatos)"
   ]
  }
 ],
 "metadata": {
  "kernelspec": {
   "display_name": "Python 3",
   "language": "python",
   "name": "python3"
  },
  "language_info": {
   "codemirror_mode": {
    "name": "ipython",
    "version": 3
   },
   "file_extension": ".py",
   "mimetype": "text/x-python",
   "name": "python",
   "nbconvert_exporter": "python",
   "pygments_lexer": "ipython3",
   "version": "3.11.9"
  }
 },
 "nbformat": 4,
 "nbformat_minor": 2
}
