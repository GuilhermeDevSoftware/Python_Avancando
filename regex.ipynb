{
 "cells": [
  {
   "cell_type": "code",
   "execution_count": 1,
   "metadata": {},
   "outputs": [],
   "source": [
    "import re"
   ]
  },
  {
   "cell_type": "code",
   "execution_count": 22,
   "metadata": {},
   "outputs": [],
   "source": [
    "def verificar_palavra_existe(texto):\n",
    "    padrao = r'\\bPython\\b'\n",
    "    if re.search(padrao, texto):\n",
    "        print(\"O padrão foi encontrado no texto.\")\n",
    "    else:\n",
    "        print(\"O padrão não foi encontrado no texto.\")   \n",
    "\n",
    "    #Identificação de emails\n",
    "    padrao_email = r'[a-zA-Z0-9._%+-]+@[a-zA-Z0-9.-]+\\.[[a-zA-Z]{2,}' \n",
    "    emails = re.findall(padrao_email, texto)  \n",
    "    print(f\"Emails encontrado: {emails}\") \n",
    "\n",
    "    #Substituindo uma palavra no texto\n",
    "    texto_substituido = re.sub(r'Python', 'C++', texto) \n",
    "    print(texto_substituido)\n",
    "\n",
    "    #Dividindo o texto por palavras\n",
    "    texto_dividido = re.split(r'\\s+', texto)\n",
    "    print(texto_dividido)"
   ]
  },
  {
   "cell_type": "code",
   "execution_count": 23,
   "metadata": {},
   "outputs": [
    {
     "name": "stdout",
     "output_type": "stream",
     "text": [
      "O padrão foi encontrado no texto.\n",
      "Emails encontrado: ['email@dominio.com', 'teste@example.org']\n",
      "\n",
      "    Programar na linguagem C++ é interessante\n",
      "    Me contate para qualquer serviço em desenvolvimento C++\n",
      "    email@dominio.com\n",
      "    teste@example.org\n",
      "\n",
      "['', 'Programar', 'na', 'linguagem', 'Python', 'é', 'interessante', 'Me', 'contate', 'para', 'qualquer', 'serviço', 'em', 'desenvolvimento', 'Python', 'email@dominio.com', 'teste@example.org', '']\n"
     ]
    }
   ],
   "source": [
    "texto = \"\"\"\n",
    "    Programar na linguagem Python é interessante\n",
    "    Me contate para qualquer serviço em desenvolvimento Python\n",
    "    email@dominio.com\n",
    "    teste@example.org\n",
    "\"\"\"\n",
    "\n",
    "verificar_palavra_existe(texto)"
   ]
  }
 ],
 "metadata": {
  "kernelspec": {
   "display_name": "Python 3",
   "language": "python",
   "name": "python3"
  },
  "language_info": {
   "codemirror_mode": {
    "name": "ipython",
    "version": 3
   },
   "file_extension": ".py",
   "mimetype": "text/x-python",
   "name": "python",
   "nbconvert_exporter": "python",
   "pygments_lexer": "ipython3",
   "version": "3.11.9"
  }
 },
 "nbformat": 4,
 "nbformat_minor": 2
}
